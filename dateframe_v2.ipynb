{
 "cells": [
  {
   "cell_type": "code",
   "execution_count": 1,
   "metadata": {},
   "outputs": [],
   "source": [
    "# pip install pandas\n",
    "# pip install sodapy\n",
    "\n",
    "import pandas as pd\n",
    "import numpy as np\n",
    "from sodapy import Socrata \n",
    "import pickle\n",
    "\n",
    "\n",
    "# Unauthenticated client only works with public data sets. Note 'None'\n",
    "# in place of application token, and no username or password:\n",
    "# client = Socrata(\"data.seattle.gov\", None)\n",
    "\n",
    "# Example authenticated client (needed for non-public datasets):\n",
    "client = Socrata('data.seattle.gov',\n",
    "                 '6dqBidzTCT6os6H6kLyyh54u4',\n",
    "                 username=\"panherbert@gmail.com\",\n",
    "                 password=\"Aa760520\")\n",
    "\n",
    "# First 2000 results, returned as JSON from API / converted to Python list of\n",
    "# dictionaries by sodapy.\n",
    "results_2018 = client.get(\"6yaw-2m8q\", select='occupancydatetime, sum(case(paidoccupancy > parkingspacecount, parkingspacecount, paidoccupancy <= parkingspacecount,  paidoccupancy)) as adjpaidoccupancy, sum(parkingspacecount) as parkingspacecnt', where=(\"blockfacename == 'UNIVERSITY ST BETWEEN ALASKAN E RDWY WAY AND WESTERN AVE'\"), group='occupancydatetime',order='occupancydatetime ASC',limit=999999999)\n",
    "results_2019 = client.get(\"qktt-2bsy\", select='occupancydatetime, sum(case(paidoccupancy > parkingspacecount, parkingspacecount, paidoccupancy <= parkingspacecount,  paidoccupancy)) as adjpaidoccupancy, sum(parkingspacecount) as parkingspacecnt', where=(\"blockfacename == 'UNIVERSITY ST BETWEEN ALASKAN E RDWY WAY AND WESTERN AVE'\"), group='occupancydatetime',order='occupancydatetime ASC',limit=999999999)"
   ]
  },
  {
   "cell_type": "code",
   "execution_count": 2,
   "metadata": {},
   "outputs": [],
   "source": [
    "# Convert data to pandas DataFrame\n",
    "results_df = pd.DataFrame.from_records((results_2018+results_2019))"
   ]
  },
  {
   "cell_type": "code",
   "execution_count": 3,
   "metadata": {},
   "outputs": [],
   "source": [
    "# Converting 'occupancydatetime' to datetime\n",
    "results_df.occupancydatetime = pd.to_datetime(results_df.occupancydatetime)\n",
    "\n",
    "# Converting 'adjpaidoccupancy', 'parkingspacecnt' to int\n",
    "results_df['adjpaidoccupancy'] = results_df['adjpaidoccupancy'].apply(pd.to_numeric)\n",
    "results_df['parkingspacecnt'] = results_df['parkingspacecnt'].apply(pd.to_numeric)\n",
    "\n",
    "\n",
    "\n",
    "# # Reorganizing column orders\n",
    "# results_df = results_df['adjpaidoccupancy',  ]"
   ]
  },
  {
   "cell_type": "code",
   "execution_count": 4,
   "metadata": {},
   "outputs": [],
   "source": [
    "# Calculating avaiable parking space\n",
    "results_df['availableparkingspace'] = results_df.parkingspacecnt - results_df.adjpaidoccupancy"
   ]
  },
  {
   "cell_type": "code",
   "execution_count": 5,
   "metadata": {},
   "outputs": [
    {
     "data": {
      "text/html": [
       "<div>\n",
       "<style scoped>\n",
       "    .dataframe tbody tr th:only-of-type {\n",
       "        vertical-align: middle;\n",
       "    }\n",
       "\n",
       "    .dataframe tbody tr th {\n",
       "        vertical-align: top;\n",
       "    }\n",
       "\n",
       "    .dataframe thead th {\n",
       "        text-align: right;\n",
       "    }\n",
       "</style>\n",
       "<table border=\"1\" class=\"dataframe\">\n",
       "  <thead>\n",
       "    <tr style=\"text-align: right;\">\n",
       "      <th></th>\n",
       "      <th>occupancydatetime</th>\n",
       "      <th>availableparkingspace</th>\n",
       "    </tr>\n",
       "  </thead>\n",
       "  <tbody>\n",
       "    <tr>\n",
       "      <th>0</th>\n",
       "      <td>2018-01-02 08:00:00</td>\n",
       "      <td>5</td>\n",
       "    </tr>\n",
       "    <tr>\n",
       "      <th>1</th>\n",
       "      <td>2018-01-02 08:01:00</td>\n",
       "      <td>5</td>\n",
       "    </tr>\n",
       "    <tr>\n",
       "      <th>2</th>\n",
       "      <td>2018-01-02 08:02:00</td>\n",
       "      <td>5</td>\n",
       "    </tr>\n",
       "    <tr>\n",
       "      <th>3</th>\n",
       "      <td>2018-01-02 08:03:00</td>\n",
       "      <td>5</td>\n",
       "    </tr>\n",
       "    <tr>\n",
       "      <th>4</th>\n",
       "      <td>2018-01-02 08:04:00</td>\n",
       "      <td>5</td>\n",
       "    </tr>\n",
       "  </tbody>\n",
       "</table>\n",
       "</div>"
      ],
      "text/plain": [
       "    occupancydatetime  availableparkingspace\n",
       "0 2018-01-02 08:00:00                      5\n",
       "1 2018-01-02 08:01:00                      5\n",
       "2 2018-01-02 08:02:00                      5\n",
       "3 2018-01-02 08:03:00                      5\n",
       "4 2018-01-02 08:04:00                      5"
      ]
     },
     "execution_count": 5,
     "metadata": {},
     "output_type": "execute_result"
    }
   ],
   "source": [
    "results_df[['occupancydatetime', 'availableparkingspace']].head()"
   ]
  },
  {
   "cell_type": "code",
   "execution_count": 7,
   "metadata": {},
   "outputs": [],
   "source": [
    "# Pickling out dataframe\n",
    "with open('dateframe_pickle','wb') as file:\n",
    "    pickle.dump(results_df, file)"
   ]
  }
 ],
 "metadata": {
  "kernelspec": {
   "display_name": "metis",
   "language": "python",
   "name": "metis"
  },
  "language_info": {
   "codemirror_mode": {
    "name": "ipython",
    "version": 3
   },
   "file_extension": ".py",
   "mimetype": "text/x-python",
   "name": "python",
   "nbconvert_exporter": "python",
   "pygments_lexer": "ipython3",
   "version": "3.7.3"
  }
 },
 "nbformat": 4,
 "nbformat_minor": 2
}
