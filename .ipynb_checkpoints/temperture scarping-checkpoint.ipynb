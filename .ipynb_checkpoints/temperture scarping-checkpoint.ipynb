{
 "cells": [
  {
   "cell_type": "code",
   "execution_count": null,
   "metadata": {},
   "outputs": [],
   "source": [
    "from selenium import webdriver\n",
    "import time\n",
    "import chromedriver_binary\n",
    "from bs4 import BeautifulSoup\n",
    "from collections import defaultdict\n",
    "import random\n",
    "import pickle\n",
    "import pandas as pd\n",
    "import numpy as np"
   ]
  },
  {
   "cell_type": "code",
   "execution_count": null,
   "metadata": {},
   "outputs": [],
   "source": [
    "# Porting dataframe pickle from dateframe_pickle\n",
    "with open('/pickles/dateframe_pickle', 'rb') as file:\n",
    "    df = pickle.load(file)"
   ]
  },
  {
   "cell_type": "code",
   "execution_count": null,
   "metadata": {},
   "outputs": [],
   "source": [
    "# Getting date range for scraping\n",
    "dates = sorted(list(set(map(lambda x: x.strftime('%Y/%m/%d'), set(df['occupancydatetime'])))))"
   ]
  },
  {
   "cell_type": "code",
   "execution_count": null,
   "metadata": {},
   "outputs": [],
   "source": [
    "# Loading Selenium driver\n",
    "\n",
    "driver = webdriver.Chrome(\"/usr/local/bin/chromedriver\")\n",
    "weather_url = 'https://www.almanac.com/weather/history/zipcode/98122/2019-01-06'\n",
    "\n",
    "driver.get(weather_url)"
   ]
  },
  {
   "cell_type": "code",
   "execution_count": null,
   "metadata": {},
   "outputs": [],
   "source": [
    "html= pd.read_html(driver.page_source)\n",
    "html = html[1]\n",
    "html"
   ]
  },
  {
   "cell_type": "code",
   "execution_count": null,
   "metadata": {},
   "outputs": [],
   "source": [
    "html.columns = ['Temp', 'Actual']\n",
    "html"
   ]
  },
  {
   "cell_type": "code",
   "execution_count": null,
   "metadata": {},
   "outputs": [],
   "source": [
    "col = []\n",
    "# hcol = defaultdict(lambda: defaultdict(defaultdict))\n",
    "\n",
    "# for i in dates:\n",
    "#     dt = pd.to_datetime(i)\n",
    "#     temp = html['Actual']\n",
    "#     hcol[dt.year][dt.month][dt.day] = 0\n",
    "  \n",
    "# hcol\n",
    "\n"
   ]
  },
  {
   "cell_type": "code",
   "execution_count": null,
   "metadata": {},
   "outputs": [],
   "source": [
    "hcol = {}\n",
    "\n",
    "# for i in dates:\n",
    "#     dt = pd.to_datetime(i)\n",
    "#     print(dt.year, dt.month, dt.day)\n",
    "#     hcol[dt.year] = {dt.month: {dt.day: 0}}\n"
   ]
  },
  {
   "cell_type": "code",
   "execution_count": null,
   "metadata": {},
   "outputs": [],
   "source": [
    "# Importing Selenium drivers\n",
    "from selenium.webdriver.support.ui import WebDriverWait\n",
    "from selenium.webdriver.common.by import By\n",
    "from selenium.webdriver.support.ui import WebDriverWait\n",
    "from selenium.webdriver.support import expected_conditions as EC"
   ]
  },
  {
   "cell_type": "code",
   "execution_count": null,
   "metadata": {},
   "outputs": [],
   "source": [
    "driver.find_element_by_xpath('//*[@id=\"block-system-main\"]/table[2]/tbody/tr[9]/td/p/span[1]')"
   ]
  },
  {
   "cell_type": "code",
   "execution_count": null,
   "metadata": {
    "scrolled": true
   },
   "outputs": [],
   "source": [
    "# Creating a scraping function\n",
    "def get_temp(yy, mm, dd):\n",
    "    time.sleep(random.randint(1, 3))\n",
    "    driver = webdriver.Chrome(\"/usr/local/bin/chromedriver\")\n",
    "    weather_url = 'https://www.almanac.com/weather/history/zipcode/98122/{}-{}-{}'\n",
    "    driver.get(weather_url.format(yy, mm,dd))\n",
    "    \n",
    "    t_min = float(driver.find_element_by_xpath('//*[@id=\"block-system-main\"]/table[2]/tbody/tr[2]/td/p/span[1]').text)\n",
    "    t_max = float(driver.find_element_by_xpath('//*[@id=\"block-system-main\"]/table[2]/tbody/tr[4]/td/p/span[1]').text)\n",
    "    t_avg = float(driver.find_element_by_xpath('//*[@id=\"block-system-main\"]/table[2]/tbody/tr[3]/td/p/span[1]').text)\n",
    "    precipitation = float(driver.find_element_by_xpath('//*[@id=\"block-system-main\"]/table[2]/tbody/tr[9]/td/p/span[1]').text)\n",
    "    \n",
    "    driver.close()\n",
    "\n",
    "    \n",
    "    return {'high': t_max, 'low': t_min,'avg': t_avg, 'precipitation': precipitation}\n",
    "\n",
    "get_temp(2019, 1, 2)"
   ]
  },
  {
   "cell_type": "code",
   "execution_count": null,
   "metadata": {},
   "outputs": [],
   "source": [
    "dates"
   ]
  },
  {
   "cell_type": "code",
   "execution_count": null,
   "metadata": {},
   "outputs": [],
   "source": [
    "# sorted(list(set(dates)-ran_dates))"
   ]
  },
  {
   "cell_type": "code",
   "execution_count": null,
   "metadata": {},
   "outputs": [],
   "source": [
    "ran_dates = set()"
   ]
  },
  {
   "cell_type": "code",
   "execution_count": null,
   "metadata": {},
   "outputs": [],
   "source": [
    "dates[0].split('/')"
   ]
  },
  {
   "cell_type": "code",
   "execution_count": null,
   "metadata": {
    "scrolled": false
   },
   "outputs": [],
   "source": [
    "for i in sorted(list(set(dates)-ran_dates)):\n",
    "    dt = i.split('/')\n",
    "    print(dt)\n",
    "#     test = get_temp(dt[0], dt[1], dt[2])\n",
    "#     hcol[dt.year][dt.month][dt.day] = test\n",
    "    col.append([i, get_temp(dt[0], dt[1], dt[2])])\n",
    "    ran_dates.add(i)\n",
    "    print(test)\n",
    "    print('ran: {}'.format(len(ran_dates)))\n",
    "    print('still: {}'.format(len(list(set(dates)-ran_dates))))\n",
    "    print('----------')"
   ]
  },
  {
   "cell_type": "code",
   "execution_count": null,
   "metadata": {
    "scrolled": true
   },
   "outputs": [],
   "source": [
    "col"
   ]
  },
  {
   "cell_type": "code",
   "execution_count": null,
   "metadata": {},
   "outputs": [],
   "source": [
    "dates"
   ]
  },
  {
   "cell_type": "code",
   "execution_count": null,
   "metadata": {},
   "outputs": [],
   "source": [
    "hcol = {}\n",
    "for x, y in col:\n",
    "    hcol[x] = y"
   ]
  },
  {
   "cell_type": "code",
   "execution_count": null,
   "metadata": {},
   "outputs": [],
   "source": [
    "hcol"
   ]
  },
  {
   "cell_type": "code",
   "execution_count": null,
   "metadata": {},
   "outputs": [],
   "source": [
    "len(hcol)"
   ]
  },
  {
   "cell_type": "code",
   "execution_count": null,
   "metadata": {},
   "outputs": [],
   "source": [
    "with open('/pickles/temp_pickle','wb') as file:\n",
    "    pickle.dump(hcol, file)\n",
    "\n"
   ]
  }
 ],
 "metadata": {
  "kernelspec": {
   "display_name": "metis",
   "language": "python",
   "name": "metis"
  },
  "language_info": {
   "codemirror_mode": {
    "name": "ipython",
    "version": 3
   },
   "file_extension": ".py",
   "mimetype": "text/x-python",
   "name": "python",
   "nbconvert_exporter": "python",
   "pygments_lexer": "ipython3",
   "version": "3.7.3"
  }
 },
 "nbformat": 4,
 "nbformat_minor": 2
}
